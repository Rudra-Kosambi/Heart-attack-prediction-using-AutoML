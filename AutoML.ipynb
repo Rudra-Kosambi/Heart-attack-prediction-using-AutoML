{
 "cells": [
  {
   "cell_type": "code",
   "execution_count": 1,
   "id": "5c0c1895",
   "metadata": {},
   "outputs": [],
   "source": [
    "import numpy as np\n",
    "import pandas as pd\n",
    "import seaborn as sns\n",
    "import matplotlib.pyplot as plt"
   ]
  },
  {
   "cell_type": "code",
   "execution_count": 2,
   "id": "30efa721",
   "metadata": {},
   "outputs": [
    {
     "data": {
      "text/html": [
       "<div>\n",
       "<style scoped>\n",
       "    .dataframe tbody tr th:only-of-type {\n",
       "        vertical-align: middle;\n",
       "    }\n",
       "\n",
       "    .dataframe tbody tr th {\n",
       "        vertical-align: top;\n",
       "    }\n",
       "\n",
       "    .dataframe thead th {\n",
       "        text-align: right;\n",
       "    }\n",
       "</style>\n",
       "<table border=\"1\" class=\"dataframe\">\n",
       "  <thead>\n",
       "    <tr style=\"text-align: right;\">\n",
       "      <th></th>\n",
       "      <th>age</th>\n",
       "      <th>sex</th>\n",
       "      <th>cp</th>\n",
       "      <th>trestbps</th>\n",
       "      <th>chol</th>\n",
       "      <th>fbs</th>\n",
       "      <th>restecg</th>\n",
       "      <th>thalach</th>\n",
       "      <th>exang</th>\n",
       "      <th>oldpeak</th>\n",
       "      <th>slope</th>\n",
       "      <th>ca</th>\n",
       "      <th>thal</th>\n",
       "      <th>target</th>\n",
       "    </tr>\n",
       "  </thead>\n",
       "  <tbody>\n",
       "    <tr>\n",
       "      <th>0</th>\n",
       "      <td>52</td>\n",
       "      <td>1</td>\n",
       "      <td>0</td>\n",
       "      <td>125</td>\n",
       "      <td>212</td>\n",
       "      <td>0</td>\n",
       "      <td>1</td>\n",
       "      <td>168</td>\n",
       "      <td>0</td>\n",
       "      <td>1.0</td>\n",
       "      <td>2</td>\n",
       "      <td>2</td>\n",
       "      <td>3</td>\n",
       "      <td>0</td>\n",
       "    </tr>\n",
       "    <tr>\n",
       "      <th>1</th>\n",
       "      <td>53</td>\n",
       "      <td>1</td>\n",
       "      <td>0</td>\n",
       "      <td>140</td>\n",
       "      <td>203</td>\n",
       "      <td>1</td>\n",
       "      <td>0</td>\n",
       "      <td>155</td>\n",
       "      <td>1</td>\n",
       "      <td>3.1</td>\n",
       "      <td>0</td>\n",
       "      <td>0</td>\n",
       "      <td>3</td>\n",
       "      <td>0</td>\n",
       "    </tr>\n",
       "    <tr>\n",
       "      <th>2</th>\n",
       "      <td>70</td>\n",
       "      <td>1</td>\n",
       "      <td>0</td>\n",
       "      <td>145</td>\n",
       "      <td>174</td>\n",
       "      <td>0</td>\n",
       "      <td>1</td>\n",
       "      <td>125</td>\n",
       "      <td>1</td>\n",
       "      <td>2.6</td>\n",
       "      <td>0</td>\n",
       "      <td>0</td>\n",
       "      <td>3</td>\n",
       "      <td>0</td>\n",
       "    </tr>\n",
       "    <tr>\n",
       "      <th>3</th>\n",
       "      <td>61</td>\n",
       "      <td>1</td>\n",
       "      <td>0</td>\n",
       "      <td>148</td>\n",
       "      <td>203</td>\n",
       "      <td>0</td>\n",
       "      <td>1</td>\n",
       "      <td>161</td>\n",
       "      <td>0</td>\n",
       "      <td>0.0</td>\n",
       "      <td>2</td>\n",
       "      <td>1</td>\n",
       "      <td>3</td>\n",
       "      <td>0</td>\n",
       "    </tr>\n",
       "    <tr>\n",
       "      <th>4</th>\n",
       "      <td>62</td>\n",
       "      <td>0</td>\n",
       "      <td>0</td>\n",
       "      <td>138</td>\n",
       "      <td>294</td>\n",
       "      <td>1</td>\n",
       "      <td>1</td>\n",
       "      <td>106</td>\n",
       "      <td>0</td>\n",
       "      <td>1.9</td>\n",
       "      <td>1</td>\n",
       "      <td>3</td>\n",
       "      <td>2</td>\n",
       "      <td>0</td>\n",
       "    </tr>\n",
       "  </tbody>\n",
       "</table>\n",
       "</div>"
      ],
      "text/plain": [
       "   age  sex  cp  trestbps  chol  fbs  restecg  thalach  exang  oldpeak  slope  \\\n",
       "0   52    1   0       125   212    0        1      168      0      1.0      2   \n",
       "1   53    1   0       140   203    1        0      155      1      3.1      0   \n",
       "2   70    1   0       145   174    0        1      125      1      2.6      0   \n",
       "3   61    1   0       148   203    0        1      161      0      0.0      2   \n",
       "4   62    0   0       138   294    1        1      106      0      1.9      1   \n",
       "\n",
       "   ca  thal  target  \n",
       "0   2     3       0  \n",
       "1   0     3       0  \n",
       "2   0     3       0  \n",
       "3   1     3       0  \n",
       "4   3     2       0  "
      ]
     },
     "execution_count": 2,
     "metadata": {},
     "output_type": "execute_result"
    }
   ],
   "source": [
    "data = pd.read_csv(r\"C:\\Users\\dell\\Downloads\\heart.csv\")\n",
    "data.head()"
   ]
  },
  {
   "cell_type": "code",
   "execution_count": 3,
   "id": "b504e857",
   "metadata": {},
   "outputs": [],
   "source": [
    "x = data.drop('target', axis=1)\n",
    "y = data['target']"
   ]
  },
  {
   "cell_type": "code",
   "execution_count": 4,
   "id": "d61d6c8d",
   "metadata": {},
   "outputs": [],
   "source": [
    "from sklearn.model_selection import train_test_split\n",
    "xtrain,xtest,ytrain,ytest = train_test_split(x,y)"
   ]
  },
  {
   "cell_type": "code",
   "execution_count": 5,
   "id": "018724a0",
   "metadata": {},
   "outputs": [
    {
     "name": "stderr",
     "output_type": "stream",
     "text": [
      "C:\\Users\\dell\\anaconda3\\lib\\site-packages\\sklearn\\linear_model\\_logistic.py:444: ConvergenceWarning: lbfgs failed to converge (status=1):\n",
      "STOP: TOTAL NO. of ITERATIONS REACHED LIMIT.\n",
      "\n",
      "Increase the number of iterations (max_iter) or scale the data as shown in:\n",
      "    https://scikit-learn.org/stable/modules/preprocessing.html\n",
      "Please also refer to the documentation for alternative solver options:\n",
      "    https://scikit-learn.org/stable/modules/linear_model.html#logistic-regression\n",
      "  n_iter_i = _check_optimize_result(\n"
     ]
    },
    {
     "data": {
      "text/html": [
       "<style>#sk-container-id-1 {color: black;background-color: white;}#sk-container-id-1 pre{padding: 0;}#sk-container-id-1 div.sk-toggleable {background-color: white;}#sk-container-id-1 label.sk-toggleable__label {cursor: pointer;display: block;width: 100%;margin-bottom: 0;padding: 0.3em;box-sizing: border-box;text-align: center;}#sk-container-id-1 label.sk-toggleable__label-arrow:before {content: \"▸\";float: left;margin-right: 0.25em;color: #696969;}#sk-container-id-1 label.sk-toggleable__label-arrow:hover:before {color: black;}#sk-container-id-1 div.sk-estimator:hover label.sk-toggleable__label-arrow:before {color: black;}#sk-container-id-1 div.sk-toggleable__content {max-height: 0;max-width: 0;overflow: hidden;text-align: left;background-color: #f0f8ff;}#sk-container-id-1 div.sk-toggleable__content pre {margin: 0.2em;color: black;border-radius: 0.25em;background-color: #f0f8ff;}#sk-container-id-1 input.sk-toggleable__control:checked~div.sk-toggleable__content {max-height: 200px;max-width: 100%;overflow: auto;}#sk-container-id-1 input.sk-toggleable__control:checked~label.sk-toggleable__label-arrow:before {content: \"▾\";}#sk-container-id-1 div.sk-estimator input.sk-toggleable__control:checked~label.sk-toggleable__label {background-color: #d4ebff;}#sk-container-id-1 div.sk-label input.sk-toggleable__control:checked~label.sk-toggleable__label {background-color: #d4ebff;}#sk-container-id-1 input.sk-hidden--visually {border: 0;clip: rect(1px 1px 1px 1px);clip: rect(1px, 1px, 1px, 1px);height: 1px;margin: -1px;overflow: hidden;padding: 0;position: absolute;width: 1px;}#sk-container-id-1 div.sk-estimator {font-family: monospace;background-color: #f0f8ff;border: 1px dotted black;border-radius: 0.25em;box-sizing: border-box;margin-bottom: 0.5em;}#sk-container-id-1 div.sk-estimator:hover {background-color: #d4ebff;}#sk-container-id-1 div.sk-parallel-item::after {content: \"\";width: 100%;border-bottom: 1px solid gray;flex-grow: 1;}#sk-container-id-1 div.sk-label:hover label.sk-toggleable__label {background-color: #d4ebff;}#sk-container-id-1 div.sk-serial::before {content: \"\";position: absolute;border-left: 1px solid gray;box-sizing: border-box;top: 0;bottom: 0;left: 50%;z-index: 0;}#sk-container-id-1 div.sk-serial {display: flex;flex-direction: column;align-items: center;background-color: white;padding-right: 0.2em;padding-left: 0.2em;position: relative;}#sk-container-id-1 div.sk-item {position: relative;z-index: 1;}#sk-container-id-1 div.sk-parallel {display: flex;align-items: stretch;justify-content: center;background-color: white;position: relative;}#sk-container-id-1 div.sk-item::before, #sk-container-id-1 div.sk-parallel-item::before {content: \"\";position: absolute;border-left: 1px solid gray;box-sizing: border-box;top: 0;bottom: 0;left: 50%;z-index: -1;}#sk-container-id-1 div.sk-parallel-item {display: flex;flex-direction: column;z-index: 1;position: relative;background-color: white;}#sk-container-id-1 div.sk-parallel-item:first-child::after {align-self: flex-end;width: 50%;}#sk-container-id-1 div.sk-parallel-item:last-child::after {align-self: flex-start;width: 50%;}#sk-container-id-1 div.sk-parallel-item:only-child::after {width: 0;}#sk-container-id-1 div.sk-dashed-wrapped {border: 1px dashed gray;margin: 0 0.4em 0.5em 0.4em;box-sizing: border-box;padding-bottom: 0.4em;background-color: white;}#sk-container-id-1 div.sk-label label {font-family: monospace;font-weight: bold;display: inline-block;line-height: 1.2em;}#sk-container-id-1 div.sk-label-container {text-align: center;}#sk-container-id-1 div.sk-container {/* jupyter's `normalize.less` sets `[hidden] { display: none; }` but bootstrap.min.css set `[hidden] { display: none !important; }` so we also need the `!important` here to be able to override the default hidden behavior on the sphinx rendered scikit-learn.org. See: https://github.com/scikit-learn/scikit-learn/issues/21755 */display: inline-block !important;position: relative;}#sk-container-id-1 div.sk-text-repr-fallback {display: none;}</style><div id=\"sk-container-id-1\" class=\"sk-top-container\"><div class=\"sk-text-repr-fallback\"><pre>LogisticRegression()</pre><b>In a Jupyter environment, please rerun this cell to show the HTML representation or trust the notebook. <br />On GitHub, the HTML representation is unable to render, please try loading this page with nbviewer.org.</b></div><div class=\"sk-container\" hidden><div class=\"sk-item\"><div class=\"sk-estimator sk-toggleable\"><input class=\"sk-toggleable__control sk-hidden--visually\" id=\"sk-estimator-id-1\" type=\"checkbox\" checked><label for=\"sk-estimator-id-1\" class=\"sk-toggleable__label sk-toggleable__label-arrow\">LogisticRegression</label><div class=\"sk-toggleable__content\"><pre>LogisticRegression()</pre></div></div></div></div></div>"
      ],
      "text/plain": [
       "LogisticRegression()"
      ]
     },
     "execution_count": 5,
     "metadata": {},
     "output_type": "execute_result"
    }
   ],
   "source": [
    "from sklearn.linear_model import LogisticRegression\n",
    "model = LogisticRegression()\n",
    "model.fit(xtrain,ytrain)"
   ]
  },
  {
   "cell_type": "code",
   "execution_count": 6,
   "id": "2004e51a",
   "metadata": {},
   "outputs": [],
   "source": [
    "ypred= model.predict(xtest)"
   ]
  },
  {
   "cell_type": "code",
   "execution_count": 7,
   "id": "398f5ba9",
   "metadata": {},
   "outputs": [
    {
     "name": "stdout",
     "output_type": "stream",
     "text": [
      "0.8365758754863813\n"
     ]
    }
   ],
   "source": [
    "from sklearn.metrics import accuracy_score\n",
    "print(accuracy_score(ytest,ypred))"
   ]
  },
  {
   "cell_type": "markdown",
   "id": "d568013e",
   "metadata": {},
   "source": [
    "# Grid Search"
   ]
  },
  {
   "cell_type": "code",
   "execution_count": 8,
   "id": "0e8fa09c",
   "metadata": {},
   "outputs": [],
   "source": [
    "\n",
    "para={\n",
    "    'solver':['newton-cg','lbfgs','liblinear'],\n",
    "    'penalty':['none','l1','l2'],\n",
    "    'C':range(1,100)\n",
    "}"
   ]
  },
  {
   "cell_type": "code",
   "execution_count": 9,
   "id": "2f6f30d8",
   "metadata": {},
   "outputs": [],
   "source": [
    "import warnings\n",
    "warnings.simplefilter('ignore')"
   ]
  },
  {
   "cell_type": "code",
   "execution_count": 10,
   "id": "9b2daf70",
   "metadata": {},
   "outputs": [],
   "source": [
    "from sklearn.model_selection import GridSearchCV"
   ]
  },
  {
   "cell_type": "code",
   "execution_count": 11,
   "id": "47b8806f",
   "metadata": {},
   "outputs": [
    {
     "data": {
      "text/html": [
       "<style>#sk-container-id-2 {color: black;background-color: white;}#sk-container-id-2 pre{padding: 0;}#sk-container-id-2 div.sk-toggleable {background-color: white;}#sk-container-id-2 label.sk-toggleable__label {cursor: pointer;display: block;width: 100%;margin-bottom: 0;padding: 0.3em;box-sizing: border-box;text-align: center;}#sk-container-id-2 label.sk-toggleable__label-arrow:before {content: \"▸\";float: left;margin-right: 0.25em;color: #696969;}#sk-container-id-2 label.sk-toggleable__label-arrow:hover:before {color: black;}#sk-container-id-2 div.sk-estimator:hover label.sk-toggleable__label-arrow:before {color: black;}#sk-container-id-2 div.sk-toggleable__content {max-height: 0;max-width: 0;overflow: hidden;text-align: left;background-color: #f0f8ff;}#sk-container-id-2 div.sk-toggleable__content pre {margin: 0.2em;color: black;border-radius: 0.25em;background-color: #f0f8ff;}#sk-container-id-2 input.sk-toggleable__control:checked~div.sk-toggleable__content {max-height: 200px;max-width: 100%;overflow: auto;}#sk-container-id-2 input.sk-toggleable__control:checked~label.sk-toggleable__label-arrow:before {content: \"▾\";}#sk-container-id-2 div.sk-estimator input.sk-toggleable__control:checked~label.sk-toggleable__label {background-color: #d4ebff;}#sk-container-id-2 div.sk-label input.sk-toggleable__control:checked~label.sk-toggleable__label {background-color: #d4ebff;}#sk-container-id-2 input.sk-hidden--visually {border: 0;clip: rect(1px 1px 1px 1px);clip: rect(1px, 1px, 1px, 1px);height: 1px;margin: -1px;overflow: hidden;padding: 0;position: absolute;width: 1px;}#sk-container-id-2 div.sk-estimator {font-family: monospace;background-color: #f0f8ff;border: 1px dotted black;border-radius: 0.25em;box-sizing: border-box;margin-bottom: 0.5em;}#sk-container-id-2 div.sk-estimator:hover {background-color: #d4ebff;}#sk-container-id-2 div.sk-parallel-item::after {content: \"\";width: 100%;border-bottom: 1px solid gray;flex-grow: 1;}#sk-container-id-2 div.sk-label:hover label.sk-toggleable__label {background-color: #d4ebff;}#sk-container-id-2 div.sk-serial::before {content: \"\";position: absolute;border-left: 1px solid gray;box-sizing: border-box;top: 0;bottom: 0;left: 50%;z-index: 0;}#sk-container-id-2 div.sk-serial {display: flex;flex-direction: column;align-items: center;background-color: white;padding-right: 0.2em;padding-left: 0.2em;position: relative;}#sk-container-id-2 div.sk-item {position: relative;z-index: 1;}#sk-container-id-2 div.sk-parallel {display: flex;align-items: stretch;justify-content: center;background-color: white;position: relative;}#sk-container-id-2 div.sk-item::before, #sk-container-id-2 div.sk-parallel-item::before {content: \"\";position: absolute;border-left: 1px solid gray;box-sizing: border-box;top: 0;bottom: 0;left: 50%;z-index: -1;}#sk-container-id-2 div.sk-parallel-item {display: flex;flex-direction: column;z-index: 1;position: relative;background-color: white;}#sk-container-id-2 div.sk-parallel-item:first-child::after {align-self: flex-end;width: 50%;}#sk-container-id-2 div.sk-parallel-item:last-child::after {align-self: flex-start;width: 50%;}#sk-container-id-2 div.sk-parallel-item:only-child::after {width: 0;}#sk-container-id-2 div.sk-dashed-wrapped {border: 1px dashed gray;margin: 0 0.4em 0.5em 0.4em;box-sizing: border-box;padding-bottom: 0.4em;background-color: white;}#sk-container-id-2 div.sk-label label {font-family: monospace;font-weight: bold;display: inline-block;line-height: 1.2em;}#sk-container-id-2 div.sk-label-container {text-align: center;}#sk-container-id-2 div.sk-container {/* jupyter's `normalize.less` sets `[hidden] { display: none; }` but bootstrap.min.css set `[hidden] { display: none !important; }` so we also need the `!important` here to be able to override the default hidden behavior on the sphinx rendered scikit-learn.org. See: https://github.com/scikit-learn/scikit-learn/issues/21755 */display: inline-block !important;position: relative;}#sk-container-id-2 div.sk-text-repr-fallback {display: none;}</style><div id=\"sk-container-id-2\" class=\"sk-top-container\"><div class=\"sk-text-repr-fallback\"><pre>GridSearchCV(estimator=LogisticRegression(),\n",
       "             param_grid={&#x27;C&#x27;: range(1, 100), &#x27;penalty&#x27;: [&#x27;none&#x27;, &#x27;l1&#x27;, &#x27;l2&#x27;],\n",
       "                         &#x27;solver&#x27;: [&#x27;newton-cg&#x27;, &#x27;lbfgs&#x27;, &#x27;liblinear&#x27;]})</pre><b>In a Jupyter environment, please rerun this cell to show the HTML representation or trust the notebook. <br />On GitHub, the HTML representation is unable to render, please try loading this page with nbviewer.org.</b></div><div class=\"sk-container\" hidden><div class=\"sk-item sk-dashed-wrapped\"><div class=\"sk-label-container\"><div class=\"sk-label sk-toggleable\"><input class=\"sk-toggleable__control sk-hidden--visually\" id=\"sk-estimator-id-2\" type=\"checkbox\" ><label for=\"sk-estimator-id-2\" class=\"sk-toggleable__label sk-toggleable__label-arrow\">GridSearchCV</label><div class=\"sk-toggleable__content\"><pre>GridSearchCV(estimator=LogisticRegression(),\n",
       "             param_grid={&#x27;C&#x27;: range(1, 100), &#x27;penalty&#x27;: [&#x27;none&#x27;, &#x27;l1&#x27;, &#x27;l2&#x27;],\n",
       "                         &#x27;solver&#x27;: [&#x27;newton-cg&#x27;, &#x27;lbfgs&#x27;, &#x27;liblinear&#x27;]})</pre></div></div></div><div class=\"sk-parallel\"><div class=\"sk-parallel-item\"><div class=\"sk-item\"><div class=\"sk-label-container\"><div class=\"sk-label sk-toggleable\"><input class=\"sk-toggleable__control sk-hidden--visually\" id=\"sk-estimator-id-3\" type=\"checkbox\" ><label for=\"sk-estimator-id-3\" class=\"sk-toggleable__label sk-toggleable__label-arrow\">estimator: LogisticRegression</label><div class=\"sk-toggleable__content\"><pre>LogisticRegression()</pre></div></div></div><div class=\"sk-serial\"><div class=\"sk-item\"><div class=\"sk-estimator sk-toggleable\"><input class=\"sk-toggleable__control sk-hidden--visually\" id=\"sk-estimator-id-4\" type=\"checkbox\" ><label for=\"sk-estimator-id-4\" class=\"sk-toggleable__label sk-toggleable__label-arrow\">LogisticRegression</label><div class=\"sk-toggleable__content\"><pre>LogisticRegression()</pre></div></div></div></div></div></div></div></div></div></div>"
      ],
      "text/plain": [
       "GridSearchCV(estimator=LogisticRegression(),\n",
       "             param_grid={'C': range(1, 100), 'penalty': ['none', 'l1', 'l2'],\n",
       "                         'solver': ['newton-cg', 'lbfgs', 'liblinear']})"
      ]
     },
     "execution_count": 11,
     "metadata": {},
     "output_type": "execute_result"
    }
   ],
   "source": [
    "best = GridSearchCV(LogisticRegression(), para)\n",
    "best.fit(xtrain,ytrain)"
   ]
  },
  {
   "cell_type": "code",
   "execution_count": 12,
   "id": "3d224b6e",
   "metadata": {},
   "outputs": [
    {
     "data": {
      "text/plain": [
       "{'C': 39, 'penalty': 'l2', 'solver': 'lbfgs'}"
      ]
     },
     "execution_count": 12,
     "metadata": {},
     "output_type": "execute_result"
    }
   ],
   "source": [
    "best.best_params_"
   ]
  },
  {
   "cell_type": "code",
   "execution_count": 13,
   "id": "42aa1133",
   "metadata": {},
   "outputs": [
    {
     "name": "stdout",
     "output_type": "stream",
     "text": [
      "0.8326848249027238\n"
     ]
    }
   ],
   "source": [
    "from sklearn.linear_model import LogisticRegression\n",
    "model = LogisticRegression(penalty='l2', C=0.1, solver='lbfgs')\n",
    "model.fit(xtrain,ytrain)\n",
    "ypred = model.predict(xtest)\n",
    "print(accuracy_score(ytest,ypred))"
   ]
  },
  {
   "cell_type": "markdown",
   "id": "96b8df45",
   "metadata": {},
   "source": [
    "# Auto ML"
   ]
  },
  {
   "cell_type": "code",
   "execution_count": 14,
   "id": "db3fee5c",
   "metadata": {},
   "outputs": [],
   "source": [
    "import evalml"
   ]
  },
  {
   "cell_type": "code",
   "execution_count": 15,
   "id": "163466b5",
   "metadata": {},
   "outputs": [],
   "source": [
    "from evalml.preprocessing import split_data"
   ]
  },
  {
   "cell_type": "code",
   "execution_count": 16,
   "id": "475f8eb2",
   "metadata": {},
   "outputs": [],
   "source": [
    "xtrain,xtest,ytrain,ytest = split_data(x,y, problem_type='binary')"
   ]
  },
  {
   "cell_type": "code",
   "execution_count": 17,
   "id": "4f35675c",
   "metadata": {},
   "outputs": [
    {
     "data": {
      "text/plain": [
       "<enum 'ProblemTypes'>"
      ]
     },
     "execution_count": 17,
     "metadata": {},
     "output_type": "execute_result"
    }
   ],
   "source": [
    "evalml.problem_types.ProblemTypes"
   ]
  },
  {
   "cell_type": "code",
   "execution_count": 18,
   "id": "7953501c",
   "metadata": {},
   "outputs": [],
   "source": [
    "from evalml.automl import AutoMLSearch"
   ]
  },
  {
   "cell_type": "code",
   "execution_count": 19,
   "id": "11caaa99",
   "metadata": {},
   "outputs": [
    {
     "name": "stderr",
     "output_type": "stream",
     "text": [
      "\tHigh coefficient of variation (cv >= 0.5) within cross validation scores.\n",
      "\tDecision Tree Classifier w/ Label Encoder + Replace Nullable Types Transformer + Imputer + Select Columns Transformer may not perform as estimated on unseen data.\n"
     ]
    },
    {
     "data": {
      "text/plain": [
       "{1: {'Logistic Regression Classifier w/ Label Encoder + Replace Nullable Types Transformer + Imputer + Standard Scaler': '00:05',\n",
       "  'Random Forest Classifier w/ Label Encoder + Replace Nullable Types Transformer + Imputer': '00:01',\n",
       "  'Total time of batch': '00:06'},\n",
       " 2: {'Logistic Regression Classifier w/ Label Encoder + Replace Nullable Types Transformer + Imputer + Standard Scaler + RF Classifier Select From Model': '00:02',\n",
       "  'Random Forest Classifier w/ Label Encoder + Replace Nullable Types Transformer + Imputer + RF Classifier Select From Model': '00:01',\n",
       "  'Total time of batch': '00:04'},\n",
       " 3: {'Decision Tree Classifier w/ Label Encoder + Replace Nullable Types Transformer + Imputer + Select Columns Transformer': '00:00',\n",
       "  'LightGBM Classifier w/ Label Encoder + Replace Nullable Types Transformer + Imputer + Select Columns Transformer': '00:00',\n",
       "  'Extra Trees Classifier w/ Label Encoder + Replace Nullable Types Transformer + Imputer + Select Columns Transformer': '00:00',\n",
       "  'Elastic Net Classifier w/ Label Encoder + Replace Nullable Types Transformer + Imputer + Standard Scaler + Select Columns Transformer': '00:00',\n",
       "  'CatBoost Classifier w/ Label Encoder + Replace Nullable Types Transformer + Imputer + Select Columns Transformer': '00:01',\n",
       "  'XGBoost Classifier w/ Label Encoder + Replace Nullable Types Transformer + Imputer + Select Columns Transformer': '00:01',\n",
       "  'Total time of batch': '00:06'}}"
      ]
     },
     "execution_count": 19,
     "metadata": {},
     "output_type": "execute_result"
    }
   ],
   "source": [
    "auto = AutoMLSearch(xtrain,ytrain, problem_type='binary')\n",
    "auto.search()"
   ]
  },
  {
   "cell_type": "code",
   "execution_count": 20,
   "id": "5f384841",
   "metadata": {},
   "outputs": [
    {
     "name": "stdout",
     "output_type": "stream",
     "text": [
      "XGBoost Classifier w/ Label Encoder + Replace Nullable Types Transformer + Imputer + Select Columns Transformer\n"
     ]
    }
   ],
   "source": [
    "print(auto.best_pipeline)"
   ]
  },
  {
   "cell_type": "code",
   "execution_count": 21,
   "id": "6b3904f1",
   "metadata": {},
   "outputs": [
    {
     "data": {
      "text/html": [
       "<div>\n",
       "<style scoped>\n",
       "    .dataframe tbody tr th:only-of-type {\n",
       "        vertical-align: middle;\n",
       "    }\n",
       "\n",
       "    .dataframe tbody tr th {\n",
       "        vertical-align: top;\n",
       "    }\n",
       "\n",
       "    .dataframe thead th {\n",
       "        text-align: right;\n",
       "    }\n",
       "</style>\n",
       "<table border=\"1\" class=\"dataframe\">\n",
       "  <thead>\n",
       "    <tr style=\"text-align: right;\">\n",
       "      <th></th>\n",
       "      <th>id</th>\n",
       "      <th>pipeline_name</th>\n",
       "      <th>search_order</th>\n",
       "      <th>validation_score</th>\n",
       "      <th>mean_cv_score</th>\n",
       "      <th>standard_deviation_cv_score</th>\n",
       "      <th>percent_better_than_baseline</th>\n",
       "      <th>high_variance_cv</th>\n",
       "      <th>parameters</th>\n",
       "    </tr>\n",
       "  </thead>\n",
       "  <tbody>\n",
       "    <tr>\n",
       "      <th>0</th>\n",
       "      <td>10</td>\n",
       "      <td>XGBoost Classifier w/ Label Encoder + Replace ...</td>\n",
       "      <td>10</td>\n",
       "      <td>0.200906</td>\n",
       "      <td>0.200906</td>\n",
       "      <td>0.018918</td>\n",
       "      <td>98.804565</td>\n",
       "      <td>False</td>\n",
       "      <td>{'Label Encoder': {'positive_label': None}, 'I...</td>\n",
       "    </tr>\n",
       "    <tr>\n",
       "      <th>1</th>\n",
       "      <td>6</td>\n",
       "      <td>LightGBM Classifier w/ Label Encoder + Replace...</td>\n",
       "      <td>6</td>\n",
       "      <td>0.202744</td>\n",
       "      <td>0.202744</td>\n",
       "      <td>0.004222</td>\n",
       "      <td>98.793631</td>\n",
       "      <td>False</td>\n",
       "      <td>{'Label Encoder': {'positive_label': None}, 'I...</td>\n",
       "    </tr>\n",
       "    <tr>\n",
       "      <th>2</th>\n",
       "      <td>2</td>\n",
       "      <td>Random Forest Classifier w/ Label Encoder + Re...</td>\n",
       "      <td>2</td>\n",
       "      <td>0.244768</td>\n",
       "      <td>0.244768</td>\n",
       "      <td>0.004796</td>\n",
       "      <td>98.543577</td>\n",
       "      <td>False</td>\n",
       "      <td>{'Label Encoder': {'positive_label': None}, 'I...</td>\n",
       "    </tr>\n",
       "    <tr>\n",
       "      <th>3</th>\n",
       "      <td>4</td>\n",
       "      <td>Random Forest Classifier w/ Label Encoder + Re...</td>\n",
       "      <td>4</td>\n",
       "      <td>0.275054</td>\n",
       "      <td>0.275054</td>\n",
       "      <td>0.009138</td>\n",
       "      <td>98.363371</td>\n",
       "      <td>False</td>\n",
       "      <td>{'Label Encoder': {'positive_label': None}, 'I...</td>\n",
       "    </tr>\n",
       "    <tr>\n",
       "      <th>4</th>\n",
       "      <td>7</td>\n",
       "      <td>Extra Trees Classifier w/ Label Encoder + Repl...</td>\n",
       "      <td>7</td>\n",
       "      <td>0.364033</td>\n",
       "      <td>0.364033</td>\n",
       "      <td>0.002047</td>\n",
       "      <td>97.833925</td>\n",
       "      <td>False</td>\n",
       "      <td>{'Label Encoder': {'positive_label': None}, 'I...</td>\n",
       "    </tr>\n",
       "    <tr>\n",
       "      <th>5</th>\n",
       "      <td>1</td>\n",
       "      <td>Logistic Regression Classifier w/ Label Encode...</td>\n",
       "      <td>1</td>\n",
       "      <td>0.369733</td>\n",
       "      <td>0.369733</td>\n",
       "      <td>0.052353</td>\n",
       "      <td>97.800007</td>\n",
       "      <td>False</td>\n",
       "      <td>{'Label Encoder': {'positive_label': None}, 'I...</td>\n",
       "    </tr>\n",
       "    <tr>\n",
       "      <th>6</th>\n",
       "      <td>3</td>\n",
       "      <td>Logistic Regression Classifier w/ Label Encode...</td>\n",
       "      <td>3</td>\n",
       "      <td>0.433287</td>\n",
       "      <td>0.433287</td>\n",
       "      <td>0.039076</td>\n",
       "      <td>97.421851</td>\n",
       "      <td>False</td>\n",
       "      <td>{'Label Encoder': {'positive_label': None}, 'I...</td>\n",
       "    </tr>\n",
       "    <tr>\n",
       "      <th>7</th>\n",
       "      <td>8</td>\n",
       "      <td>Elastic Net Classifier w/ Label Encoder + Repl...</td>\n",
       "      <td>8</td>\n",
       "      <td>0.442303</td>\n",
       "      <td>0.442303</td>\n",
       "      <td>0.043713</td>\n",
       "      <td>97.368204</td>\n",
       "      <td>False</td>\n",
       "      <td>{'Label Encoder': {'positive_label': None}, 'I...</td>\n",
       "    </tr>\n",
       "    <tr>\n",
       "      <th>8</th>\n",
       "      <td>9</td>\n",
       "      <td>CatBoost Classifier w/ Label Encoder + Replace...</td>\n",
       "      <td>9</td>\n",
       "      <td>0.613141</td>\n",
       "      <td>0.613141</td>\n",
       "      <td>0.002947</td>\n",
       "      <td>96.351680</td>\n",
       "      <td>False</td>\n",
       "      <td>{'Label Encoder': {'positive_label': None}, 'I...</td>\n",
       "    </tr>\n",
       "    <tr>\n",
       "      <th>9</th>\n",
       "      <td>5</td>\n",
       "      <td>Decision Tree Classifier w/ Label Encoder + Re...</td>\n",
       "      <td>5</td>\n",
       "      <td>1.430518</td>\n",
       "      <td>1.430518</td>\n",
       "      <td>0.763559</td>\n",
       "      <td>91.488109</td>\n",
       "      <td>True</td>\n",
       "      <td>{'Label Encoder': {'positive_label': None}, 'I...</td>\n",
       "    </tr>\n",
       "    <tr>\n",
       "      <th>10</th>\n",
       "      <td>0</td>\n",
       "      <td>Mode Baseline Binary Classification Pipeline</td>\n",
       "      <td>0</td>\n",
       "      <td>16.806113</td>\n",
       "      <td>16.806113</td>\n",
       "      <td>0.035456</td>\n",
       "      <td>0.000000</td>\n",
       "      <td>False</td>\n",
       "      <td>{'Label Encoder': {'positive_label': None}, 'B...</td>\n",
       "    </tr>\n",
       "  </tbody>\n",
       "</table>\n",
       "</div>"
      ],
      "text/plain": [
       "    id                                      pipeline_name  search_order  \\\n",
       "0   10  XGBoost Classifier w/ Label Encoder + Replace ...            10   \n",
       "1    6  LightGBM Classifier w/ Label Encoder + Replace...             6   \n",
       "2    2  Random Forest Classifier w/ Label Encoder + Re...             2   \n",
       "3    4  Random Forest Classifier w/ Label Encoder + Re...             4   \n",
       "4    7  Extra Trees Classifier w/ Label Encoder + Repl...             7   \n",
       "5    1  Logistic Regression Classifier w/ Label Encode...             1   \n",
       "6    3  Logistic Regression Classifier w/ Label Encode...             3   \n",
       "7    8  Elastic Net Classifier w/ Label Encoder + Repl...             8   \n",
       "8    9  CatBoost Classifier w/ Label Encoder + Replace...             9   \n",
       "9    5  Decision Tree Classifier w/ Label Encoder + Re...             5   \n",
       "10   0       Mode Baseline Binary Classification Pipeline             0   \n",
       "\n",
       "    validation_score  mean_cv_score  standard_deviation_cv_score  \\\n",
       "0           0.200906       0.200906                     0.018918   \n",
       "1           0.202744       0.202744                     0.004222   \n",
       "2           0.244768       0.244768                     0.004796   \n",
       "3           0.275054       0.275054                     0.009138   \n",
       "4           0.364033       0.364033                     0.002047   \n",
       "5           0.369733       0.369733                     0.052353   \n",
       "6           0.433287       0.433287                     0.039076   \n",
       "7           0.442303       0.442303                     0.043713   \n",
       "8           0.613141       0.613141                     0.002947   \n",
       "9           1.430518       1.430518                     0.763559   \n",
       "10         16.806113      16.806113                     0.035456   \n",
       "\n",
       "    percent_better_than_baseline  high_variance_cv  \\\n",
       "0                      98.804565             False   \n",
       "1                      98.793631             False   \n",
       "2                      98.543577             False   \n",
       "3                      98.363371             False   \n",
       "4                      97.833925             False   \n",
       "5                      97.800007             False   \n",
       "6                      97.421851             False   \n",
       "7                      97.368204             False   \n",
       "8                      96.351680             False   \n",
       "9                      91.488109              True   \n",
       "10                      0.000000             False   \n",
       "\n",
       "                                           parameters  \n",
       "0   {'Label Encoder': {'positive_label': None}, 'I...  \n",
       "1   {'Label Encoder': {'positive_label': None}, 'I...  \n",
       "2   {'Label Encoder': {'positive_label': None}, 'I...  \n",
       "3   {'Label Encoder': {'positive_label': None}, 'I...  \n",
       "4   {'Label Encoder': {'positive_label': None}, 'I...  \n",
       "5   {'Label Encoder': {'positive_label': None}, 'I...  \n",
       "6   {'Label Encoder': {'positive_label': None}, 'I...  \n",
       "7   {'Label Encoder': {'positive_label': None}, 'I...  \n",
       "8   {'Label Encoder': {'positive_label': None}, 'I...  \n",
       "9   {'Label Encoder': {'positive_label': None}, 'I...  \n",
       "10  {'Label Encoder': {'positive_label': None}, 'B...  "
      ]
     },
     "execution_count": 21,
     "metadata": {},
     "output_type": "execute_result"
    }
   ],
   "source": [
    "auto.rankings"
   ]
  },
  {
   "cell_type": "code",
   "execution_count": 22,
   "id": "37a3af76",
   "metadata": {},
   "outputs": [
    {
     "name": "stdout",
     "output_type": "stream",
     "text": [
      "\n",
      "*******************************************************************************************************************\n",
      "* XGBoost Classifier w/ Label Encoder + Replace Nullable Types Transformer + Imputer + Select Columns Transformer *\n",
      "*******************************************************************************************************************\n",
      "\n",
      "Problem Type: binary\n",
      "Model Family: XGBoost\n",
      "\n",
      "Pipeline Steps\n",
      "==============\n",
      "1. Label Encoder\n",
      "\t * positive_label : None\n",
      "2. Replace Nullable Types Transformer\n",
      "3. Imputer\n",
      "\t * categorical_impute_strategy : most_frequent\n",
      "\t * numeric_impute_strategy : mean\n",
      "\t * boolean_impute_strategy : most_frequent\n",
      "\t * categorical_fill_value : None\n",
      "\t * numeric_fill_value : None\n",
      "\t * boolean_fill_value : None\n",
      "4. Select Columns Transformer\n",
      "\t * columns : ['cp', 'trestbps', 'chol', 'thalach', 'exang', 'oldpeak', 'thal']\n",
      "5. XGBoost Classifier\n",
      "\t * eta : 0.1\n",
      "\t * max_depth : 6\n",
      "\t * min_child_weight : 1\n",
      "\t * n_estimators : 100\n",
      "\t * n_jobs : -1\n",
      "\t * eval_metric : logloss\n",
      "\n",
      "Training\n",
      "========\n",
      "Training for binary problems.\n",
      "Total training time (including CV): 1.1 seconds\n",
      "\n",
      "Cross Validation\n",
      "----------------\n",
      "             Log Loss Binary  MCC Binary  Gini   AUC  Precision    F1  Balanced Accuracy Binary  Accuracy Binary # Training # Validation\n",
      "0                      0.221       0.871 0.930 0.965      0.967 0.930                     0.933            0.934        546          274\n",
      "1                      0.183       0.814 0.964 0.982      0.840 0.907                     0.903            0.901        547          273\n",
      "2                      0.199       0.920 0.945 0.973      0.942 0.959                     0.960            0.960        547          273\n",
      "mean                   0.201       0.868 0.946 0.973      0.916 0.932                     0.932            0.932          -            -\n",
      "std                    0.019       0.053 0.017 0.009      0.068 0.026                     0.028            0.029          -            -\n",
      "coef of var            0.094       0.061 0.018 0.009      0.074 0.028                     0.031            0.032          -            -\n"
     ]
    }
   ],
   "source": [
    "auto.describe_pipeline(auto.rankings.iloc[0][\"id\"])"
   ]
  },
  {
   "cell_type": "code",
   "execution_count": 23,
   "id": "badd2b22",
   "metadata": {},
   "outputs": [],
   "source": [
    "best = auto.best_pipeline"
   ]
  },
  {
   "cell_type": "code",
   "execution_count": 24,
   "id": "1ea796f9",
   "metadata": {},
   "outputs": [
    {
     "data": {
      "text/plain": [
       "OrderedDict([('AUC', 0.9963809523809525),\n",
       "             ('Precision', 1.0),\n",
       "             ('Recall', 0.9809523809523809),\n",
       "             ('F1', 0.9903846153846153)])"
      ]
     },
     "execution_count": 24,
     "metadata": {},
     "output_type": "execute_result"
    }
   ],
   "source": [
    "best.score(xtest,ytest, objectives = ['auc','precision','recall','f1'])"
   ]
  },
  {
   "cell_type": "code",
   "execution_count": 33,
   "id": "e25f1014",
   "metadata": {},
   "outputs": [
    {
     "data": {
      "image/svg+xml": [
       "<?xml version=\"1.0\" encoding=\"UTF-8\" standalone=\"no\"?>\n",
       "<!DOCTYPE svg PUBLIC \"-//W3C//DTD SVG 1.1//EN\"\n",
       " \"http://www.w3.org/Graphics/SVG/1.1/DTD/svg11.dtd\">\n",
       "<!-- Generated by graphviz version 2.50.0 (0)\n",
       " -->\n",
       "<!-- Pages: 1 -->\n",
       "<svg width=\"1340pt\" height=\"231pt\"\n",
       " viewBox=\"0.00 0.00 1340.00 231.00\" xmlns=\"http://www.w3.org/2000/svg\" xmlns:xlink=\"http://www.w3.org/1999/xlink\">\n",
       "<g id=\"graph0\" class=\"graph\" transform=\"scale(1 1) rotate(0) translate(4 227)\">\n",
       "<polygon fill=\"white\" stroke=\"transparent\" points=\"-4,4 -4,-227 1336,-227 1336,4 -4,4\"/>\n",
       "<!-- Label Encoder -->\n",
       "<g id=\"node1\" class=\"node\">\n",
       "<title>Label Encoder</title>\n",
       "<polygon fill=\"none\" stroke=\"black\" points=\"72,-120 72,-166 205,-166 205,-120 72,-120\"/>\n",
       "<text text-anchor=\"middle\" x=\"138.5\" y=\"-150.8\" font-family=\"Times New Roman,serif\" font-size=\"14.00\">Label Encoder</text>\n",
       "<polyline fill=\"none\" stroke=\"black\" points=\"72,-143 205,-143 \"/>\n",
       "<text text-anchor=\"start\" x=\"80\" y=\"-127.8\" font-family=\"Times New Roman,serif\" font-size=\"14.00\">positive_label : None</text>\n",
       "</g>\n",
       "<!-- Replace Nullable Types Transformer -->\n",
       "<g id=\"node2\" class=\"node\">\n",
       "<title>Replace Nullable Types Transformer</title>\n",
       "<polygon fill=\"none\" stroke=\"black\" points=\"241,-93.5 241,-140.5 458,-140.5 458,-93.5 241,-93.5\"/>\n",
       "<text text-anchor=\"middle\" x=\"349.5\" y=\"-125.3\" font-family=\"Times New Roman,serif\" font-size=\"14.00\">Replace Nullable Types Transformer</text>\n",
       "<polyline fill=\"none\" stroke=\"black\" points=\"241,-117.5 458,-117.5 \"/>\n",
       "</g>\n",
       "<!-- Label Encoder&#45;&gt;Replace Nullable Types Transformer -->\n",
       "<g id=\"edge6\" class=\"edge\">\n",
       "<title>Label Encoder&#45;&gt;Replace Nullable Types Transformer</title>\n",
       "<path fill=\"none\" stroke=\"black\" stroke-dasharray=\"1,5\" d=\"M205.06,-134.84C213.32,-133.82 221.96,-132.74 230.73,-131.65\"/>\n",
       "<polygon fill=\"black\" stroke=\"black\" points=\"231.18,-135.12 240.67,-130.41 230.31,-128.18 231.18,-135.12\"/>\n",
       "</g>\n",
       "<!-- Imputer -->\n",
       "<g id=\"node3\" class=\"node\">\n",
       "<title>Imputer</title>\n",
       "<polygon fill=\"none\" stroke=\"black\" points=\"494,-101.5 494,-222.5 754,-222.5 754,-101.5 494,-101.5\"/>\n",
       "<text text-anchor=\"middle\" x=\"624\" y=\"-207.3\" font-family=\"Times New Roman,serif\" font-size=\"14.00\">Imputer</text>\n",
       "<polyline fill=\"none\" stroke=\"black\" points=\"494,-199.5 754,-199.5 \"/>\n",
       "<text text-anchor=\"start\" x=\"502\" y=\"-184.3\" font-family=\"Times New Roman,serif\" font-size=\"14.00\">categorical_impute_strategy : most_frequent</text>\n",
       "<text text-anchor=\"start\" x=\"502\" y=\"-169.3\" font-family=\"Times New Roman,serif\" font-size=\"14.00\">numeric_impute_strategy : mean</text>\n",
       "<text text-anchor=\"start\" x=\"502\" y=\"-154.3\" font-family=\"Times New Roman,serif\" font-size=\"14.00\">boolean_impute_strategy : most_frequent</text>\n",
       "<text text-anchor=\"start\" x=\"502\" y=\"-139.3\" font-family=\"Times New Roman,serif\" font-size=\"14.00\">categorical_fill_value : None</text>\n",
       "<text text-anchor=\"start\" x=\"502\" y=\"-124.3\" font-family=\"Times New Roman,serif\" font-size=\"14.00\">numeric_fill_value : None</text>\n",
       "<text text-anchor=\"start\" x=\"502\" y=\"-109.3\" font-family=\"Times New Roman,serif\" font-size=\"14.00\">boolean_fill_value : None</text>\n",
       "</g>\n",
       "<!-- Replace Nullable Types Transformer&#45;&gt;Imputer -->\n",
       "<g id=\"edge1\" class=\"edge\">\n",
       "<title>Replace Nullable Types Transformer&#45;&gt;Imputer</title>\n",
       "<path fill=\"none\" stroke=\"black\" d=\"M458.2,-128.17C466.65,-129.48 475.25,-130.86 483.86,-132.27\"/>\n",
       "<polygon fill=\"black\" stroke=\"black\" points=\"483.54,-135.77 493.98,-133.95 484.68,-128.86 483.54,-135.77\"/>\n",
       "</g>\n",
       "<!-- Replace Nullable Types Transformer&#45;&gt;Imputer -->\n",
       "<g id=\"edge7\" class=\"edge\">\n",
       "<title>Replace Nullable Types Transformer&#45;&gt;Imputer</title>\n",
       "<path fill=\"none\" stroke=\"black\" stroke-dasharray=\"1,5\" d=\"M453.13,-140.51C463.19,-142.29 473.52,-144.05 483.86,-145.77\"/>\n",
       "<polygon fill=\"black\" stroke=\"black\" points=\"483.34,-149.23 493.78,-147.4 484.48,-142.33 483.34,-149.23\"/>\n",
       "</g>\n",
       "<!-- Select Columns Transformer -->\n",
       "<g id=\"node4\" class=\"node\">\n",
       "<title>Select Columns Transformer</title>\n",
       "<polygon fill=\"none\" stroke=\"black\" points=\"790,-64 790,-110 1162,-110 1162,-64 790,-64\"/>\n",
       "<text text-anchor=\"middle\" x=\"976\" y=\"-94.8\" font-family=\"Times New Roman,serif\" font-size=\"14.00\">Select Columns Transformer</text>\n",
       "<polyline fill=\"none\" stroke=\"black\" points=\"790,-87 1162,-87 \"/>\n",
       "<text text-anchor=\"start\" x=\"798\" y=\"-71.8\" font-family=\"Times New Roman,serif\" font-size=\"14.00\">columns : [&#39;cp&#39;, &#39;trestbps&#39;, &#39;chol&#39;, &#39;thalach&#39;, &#39;exang&#39;, &#39;oldpeak&#39;, &#39;thal&#39;]</text>\n",
       "</g>\n",
       "<!-- Replace Nullable Types Transformer&#45;&gt;Select Columns Transformer -->\n",
       "<g id=\"edge8\" class=\"edge\">\n",
       "<title>Replace Nullable Types Transformer&#45;&gt;Select Columns Transformer</title>\n",
       "<path fill=\"none\" stroke=\"black\" stroke-dasharray=\"1,5\" d=\"M458.38,-96.28C470.36,-94.55 482.42,-93.06 494,-92 587.79,-83.4 692.29,-81.41 779.87,-81.87\"/>\n",
       "<polygon fill=\"black\" stroke=\"black\" points=\"779.9,-85.37 789.92,-81.93 779.94,-78.37 779.9,-85.37\"/>\n",
       "</g>\n",
       "<!-- XGBoost Classifier -->\n",
       "<g id=\"node5\" class=\"node\">\n",
       "<title>XGBoost Classifier</title>\n",
       "<polygon fill=\"none\" stroke=\"black\" points=\"1198,-0.5 1198,-121.5 1332,-121.5 1332,-0.5 1198,-0.5\"/>\n",
       "<text text-anchor=\"middle\" x=\"1265\" y=\"-106.3\" font-family=\"Times New Roman,serif\" font-size=\"14.00\">XGBoost Classifier</text>\n",
       "<polyline fill=\"none\" stroke=\"black\" points=\"1198,-98.5 1332,-98.5 \"/>\n",
       "<text text-anchor=\"start\" x=\"1206\" y=\"-83.3\" font-family=\"Times New Roman,serif\" font-size=\"14.00\">eta : 0.10</text>\n",
       "<text text-anchor=\"start\" x=\"1206\" y=\"-68.3\" font-family=\"Times New Roman,serif\" font-size=\"14.00\">max_depth : 6</text>\n",
       "<text text-anchor=\"start\" x=\"1206\" y=\"-53.3\" font-family=\"Times New Roman,serif\" font-size=\"14.00\">min_child_weight : 1</text>\n",
       "<text text-anchor=\"start\" x=\"1206\" y=\"-38.3\" font-family=\"Times New Roman,serif\" font-size=\"14.00\">n_estimators : 100</text>\n",
       "<text text-anchor=\"start\" x=\"1206\" y=\"-23.3\" font-family=\"Times New Roman,serif\" font-size=\"14.00\">n_jobs : &#45;1</text>\n",
       "<text text-anchor=\"start\" x=\"1206\" y=\"-8.3\" font-family=\"Times New Roman,serif\" font-size=\"14.00\">eval_metric : logloss</text>\n",
       "</g>\n",
       "<!-- Replace Nullable Types Transformer&#45;&gt;XGBoost Classifier -->\n",
       "<g id=\"edge9\" class=\"edge\">\n",
       "<title>Replace Nullable Types Transformer&#45;&gt;XGBoost Classifier</title>\n",
       "<path fill=\"none\" stroke=\"black\" stroke-dasharray=\"1,5\" d=\"M426.99,-93.41C448.49,-87.55 472,-81.85 494,-78 744.89,-34.12 1048.73,-46.13 1187.81,-55.15\"/>\n",
       "<polygon fill=\"black\" stroke=\"black\" points=\"1187.73,-58.65 1197.94,-55.82 1188.2,-51.67 1187.73,-58.65\"/>\n",
       "</g>\n",
       "<!-- Imputer&#45;&gt;Select Columns Transformer -->\n",
       "<g id=\"edge2\" class=\"edge\">\n",
       "<title>Imputer&#45;&gt;Select Columns Transformer</title>\n",
       "<path fill=\"none\" stroke=\"black\" d=\"M754.33,-134.29C788.04,-127.06 824.18,-119.32 857.25,-112.23\"/>\n",
       "<polygon fill=\"black\" stroke=\"black\" points=\"858.36,-115.57 867.41,-110.06 856.9,-108.73 858.36,-115.57\"/>\n",
       "</g>\n",
       "<!-- Select Columns Transformer&#45;&gt;XGBoost Classifier -->\n",
       "<g id=\"edge3\" class=\"edge\">\n",
       "<title>Select Columns Transformer&#45;&gt;XGBoost Classifier</title>\n",
       "<path fill=\"none\" stroke=\"black\" d=\"M1162.01,-70.24C1170.85,-69.44 1179.47,-68.66 1187.7,-67.91\"/>\n",
       "<polygon fill=\"black\" stroke=\"black\" points=\"1188.28,-71.37 1197.92,-66.99 1187.64,-64.4 1188.28,-71.37\"/>\n",
       "</g>\n",
       "<!-- X -->\n",
       "<g id=\"node6\" class=\"node\">\n",
       "<title>X</title>\n",
       "<ellipse fill=\"none\" stroke=\"black\" cx=\"18\" cy=\"-91\" rx=\"18\" ry=\"18\"/>\n",
       "<text text-anchor=\"middle\" x=\"18\" y=\"-87.3\" font-family=\"Times New Roman,serif\" font-size=\"14.00\">X</text>\n",
       "</g>\n",
       "<!-- X&#45;&gt;Label Encoder -->\n",
       "<g id=\"edge4\" class=\"edge\">\n",
       "<title>X&#45;&gt;Label Encoder</title>\n",
       "<path fill=\"none\" stroke=\"black\" d=\"M34.98,-98.01C45.65,-102.7 60.44,-109.19 75.47,-115.78\"/>\n",
       "<polygon fill=\"black\" stroke=\"black\" points=\"74.27,-119.07 84.83,-119.89 77.08,-112.66 74.27,-119.07\"/>\n",
       "</g>\n",
       "<!-- X&#45;&gt;Replace Nullable Types Transformer -->\n",
       "<g id=\"edge5\" class=\"edge\">\n",
       "<title>X&#45;&gt;Replace Nullable Types Transformer</title>\n",
       "<path fill=\"none\" stroke=\"black\" d=\"M36.25,-92.36C72.23,-95.2 157.97,-101.97 230.51,-107.69\"/>\n",
       "<polygon fill=\"black\" stroke=\"black\" points=\"230.41,-111.19 240.65,-108.49 230.96,-104.21 230.41,-111.19\"/>\n",
       "</g>\n",
       "<!-- y -->\n",
       "<g id=\"node7\" class=\"node\">\n",
       "<title>y</title>\n",
       "<ellipse fill=\"none\" stroke=\"black\" cx=\"18\" cy=\"-145\" rx=\"18\" ry=\"18\"/>\n",
       "<text text-anchor=\"middle\" x=\"18\" y=\"-141.3\" font-family=\"Times New Roman,serif\" font-size=\"14.00\">y</text>\n",
       "</g>\n",
       "<!-- y&#45;&gt;Label Encoder -->\n",
       "<g id=\"edge10\" class=\"edge\">\n",
       "<title>y&#45;&gt;Label Encoder</title>\n",
       "<path fill=\"none\" stroke=\"black\" stroke-dasharray=\"1,5\" d=\"M36.23,-144.71C43.42,-144.59 52.32,-144.44 61.83,-144.28\"/>\n",
       "<polygon fill=\"black\" stroke=\"black\" points=\"61.98,-147.78 71.92,-144.11 61.86,-140.78 61.98,-147.78\"/>\n",
       "</g>\n",
       "</g>\n",
       "</svg>\n"
      ],
      "text/plain": [
       "<graphviz.graphs.Digraph at 0x23a8b397dc0>"
      ]
     },
     "execution_count": 33,
     "metadata": {},
     "output_type": "execute_result"
    }
   ],
   "source": [
    "best.graph()"
   ]
  },
  {
   "cell_type": "code",
   "execution_count": 35,
   "id": "1067068e",
   "metadata": {},
   "outputs": [
    {
     "data": {
      "text/plain": [
       "pipeline = BinaryClassificationPipeline(component_graph={'Label Encoder': ['Label Encoder', 'X', 'y'], 'Replace Nullable Types Transformer': ['Replace Nullable Types Transformer', 'X', 'Label Encoder.y'], 'Imputer': ['Imputer', 'Replace Nullable Types Transformer.x', 'Replace Nullable Types Transformer.y'], 'Select Columns Transformer': ['Select Columns Transformer', 'Imputer.x', 'Replace Nullable Types Transformer.y'], 'XGBoost Classifier': ['XGBoost Classifier', 'Select Columns Transformer.x', 'Replace Nullable Types Transformer.y']}, parameters={'Label Encoder':{'positive_label': None}, 'Imputer':{'categorical_impute_strategy': 'most_frequent', 'numeric_impute_strategy': 'mean', 'boolean_impute_strategy': 'most_frequent', 'categorical_fill_value': None, 'numeric_fill_value': None, 'boolean_fill_value': None}, 'Select Columns Transformer':{'columns': ['cp', 'trestbps', 'chol', 'thalach', 'exang', 'oldpeak', 'thal']}, 'XGBoost Classifier':{'eta': 0.1, 'max_depth': 6, 'min_child_weight': 1, 'n_estimators': 100, 'n_jobs': -1, 'eval_metric': 'logloss'}}, random_seed=0)"
      ]
     },
     "execution_count": 35,
     "metadata": {},
     "output_type": "execute_result"
    }
   ],
   "source": [
    "newmodel = auto.best_pipeline\n",
    "newmodel.fit(xtrain,ytrain)"
   ]
  },
  {
   "cell_type": "code",
   "execution_count": 36,
   "id": "9f9fcc69",
   "metadata": {},
   "outputs": [
    {
     "name": "stdout",
     "output_type": "stream",
     "text": [
      "0.9902439024390244\n"
     ]
    }
   ],
   "source": [
    "pred = newmodel.predict(xtest)\n",
    "print(accuracy_score(ytest,pred))"
   ]
  },
  {
   "cell_type": "code",
   "execution_count": null,
   "id": "88a9dfbb",
   "metadata": {},
   "outputs": [],
   "source": []
  }
 ],
 "metadata": {
  "kernelspec": {
   "display_name": "Python 3 (ipykernel)",
   "language": "python",
   "name": "python3"
  },
  "language_info": {
   "codemirror_mode": {
    "name": "ipython",
    "version": 3
   },
   "file_extension": ".py",
   "mimetype": "text/x-python",
   "name": "python",
   "nbconvert_exporter": "python",
   "pygments_lexer": "ipython3",
   "version": "3.9.12"
  }
 },
 "nbformat": 4,
 "nbformat_minor": 5
}
